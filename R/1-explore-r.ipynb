{
 "cells": [
  {
   "cell_type": "markdown",
   "metadata": {},
   "source": [
    "## Azure Machine Learning and R"
   ]
  },
  {
   "cell_type": "code",
   "execution_count": null,
   "metadata": {},
   "outputs": [],
   "source": [
    "library(azuremlsdk)\n",
    "library(data.table)\n",
    "library(ggplot2)"
   ]
  },
  {
   "cell_type": "markdown",
   "metadata": {},
   "source": [
    "### Load the workspace"
   ]
  },
  {
   "cell_type": "code",
   "execution_count": null,
   "metadata": {},
   "outputs": [],
   "source": [
    "ws = load_workspace_from_config()"
   ]
  },
  {
   "cell_type": "markdown",
   "metadata": {},
   "source": [
    "### Retrieve the Attrition Dataset from the workspace"
   ]
  },
  {
   "cell_type": "markdown",
   "metadata": {},
   "source": [
    "See the registered datasets in your workspace:"
   ]
  },
  {
   "cell_type": "code",
   "execution_count": null,
   "metadata": {},
   "outputs": [],
   "source": [
    "datasets = ws$datasets\n",
    "print(datasets)"
   ]
  },
  {
   "cell_type": "markdown",
   "metadata": {},
   "source": [
    "Retrieve the attrition dataset:"
   ]
  },
  {
   "cell_type": "code",
   "execution_count": null,
   "metadata": {},
   "outputs": [],
   "source": [
    "attrition = get_dataset_by_name(ws, name = \"IBM-Employee-Attrition\")\n",
    "print(attrition)"
   ]
  },
  {
   "cell_type": "markdown",
   "metadata": {},
   "source": [
    "### Derive a FileDataset from the attrition dataset, mount it and load the data into a data.table\n",
    "Since the original attrition dataset created for the workshop is a `TabularDataset`, we can derive a `FileDataset` from the dataset to mount it and load the data into a data.table."
   ]
  },
  {
   "cell_type": "code",
   "execution_count": null,
   "metadata": {},
   "outputs": [],
   "source": [
    "# Derive a FileDataset from the attrition dataset\n",
    "attrition_fds = convert_to_dataset_with_csv_files(attrition)\n",
    "\n",
    "# Create a context manager to manage the lifecycle of the mount\n",
    "mc = attrition_fds$mount() \n",
    "\n",
    "# Enter the context manager to mount\n",
    "mc$start()\n",
    "\n",
    "# Load the data into a data.table\n",
    "csv_file = paste(mc$mount_point, 'part-00000', sep = '/')\n",
    "df = fread(file=csv_file)\n",
    "\n",
    "# Exit from the context manager to unmount\n",
    "mc$stop()"
   ]
  },
  {
   "cell_type": "markdown",
   "metadata": {},
   "source": [
    "### Do some nice plots with ggplot"
   ]
  },
  {
   "cell_type": "code",
   "execution_count": null,
   "metadata": {},
   "outputs": [],
   "source": [
    "gg <- ggplot(df, aes(x=Age, y=MonthlyIncome))\n",
    "gg = gg + geom_point(size=0.5, color='steelblue') \n",
    "gg = gg + geom_smooth(aes())\n",
    "gg = gg + facet_grid(Department ~ Attrition) \n",
    "gg"
   ]
  }
 ],
 "metadata": {
  "kernelspec": {
   "display_name": "R",
   "language": "R",
   "name": "ir"
  },
  "language_info": {
   "codemirror_mode": "r",
   "file_extension": ".r",
   "mimetype": "text/x-r-source",
   "name": "R",
   "pygments_lexer": "r",
   "version": "3.6.1"
  }
 },
 "nbformat": 4,
 "nbformat_minor": 2
}
